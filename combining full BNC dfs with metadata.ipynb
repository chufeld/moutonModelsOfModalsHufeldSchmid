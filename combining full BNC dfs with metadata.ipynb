{
 "cells": [
  {
   "cell_type": "markdown",
   "id": "9d48c3fd",
   "metadata": {},
   "source": [
    "# combining full BNC dfs with speaker metadata"
   ]
  },
  {
   "cell_type": "code",
   "execution_count": 1,
   "id": "f8df1340",
   "metadata": {},
   "outputs": [],
   "source": [
    "import numpy as np\n",
    "import pandas as pd\n",
    "import concurrent.futures\n",
    "import time"
   ]
  },
  {
   "cell_type": "code",
   "execution_count": 2,
   "id": "cb91a6cf",
   "metadata": {},
   "outputs": [],
   "source": [
    "# show more columns and rows\n",
    "pd.set_option('display.max_rows', 500)\n",
    "pd.set_option('display.max_columns', 500)"
   ]
  },
  {
   "cell_type": "markdown",
   "id": "17df2168",
   "metadata": {},
   "source": [
    "## reading full BNC dfs with target uni- bi- trigrams"
   ]
  },
  {
   "cell_type": "code",
   "execution_count": 3,
   "id": "85c87cf5",
   "metadata": {},
   "outputs": [],
   "source": [
    "dfUni = pd.read_csv(\"takeAndGetDfWholeBNC.csv\")\n",
    "dfBigram = pd.read_csv(\"comparisonBigramsDfWholeBNC2.csv\")\n",
    "dfTrigram = pd.read_csv(\"comparisonTrigramsDfWholeBNC.csv\")\n",
    "dfModalUni = pd.read_csv(\"modalsUnigramsEntireBnc.csv\")\n",
    "dfModalBi1R = pd.read_csv(\"singleCell1R0Ldf.csv\")\n",
    "dfModalBi1L = pd.read_csv(\"singleCell0R1Ldf.csv\")\n",
    "dfModalTri = pd.read_csv(\"singleCell2R0Ldf.csv\")"
   ]
  },
  {
   "cell_type": "code",
   "execution_count": 4,
   "id": "181fa6b7",
   "metadata": {},
   "outputs": [],
   "source": [
    "dfSpeakerData = pd.read_csv(\"speaker_data_all_speakers.csv\")"
   ]
  },
  {
   "cell_type": "code",
   "execution_count": 5,
   "id": "f756d3ae",
   "metadata": {},
   "outputs": [],
   "source": [
    "dfUntagged = pd.read_csv(\"untagged_data.csv\")"
   ]
  },
  {
   "cell_type": "markdown",
   "id": "ba61e827",
   "metadata": {},
   "source": [
    "## combining"
   ]
  },
  {
   "cell_type": "code",
   "execution_count": 6,
   "id": "3e13a44f",
   "metadata": {},
   "outputs": [],
   "source": [
    "speakerList = dfSpeakerData.who.tolist()"
   ]
  },
  {
   "cell_type": "code",
   "execution_count": 7,
   "id": "e8eae85b",
   "metadata": {},
   "outputs": [],
   "source": [
    "speakerList2 = dfModalUni.who.tolist()"
   ]
  },
  {
   "cell_type": "code",
   "execution_count": 8,
   "id": "56140982",
   "metadata": {},
   "outputs": [],
   "source": [
    "missingSpeakers2 = []\n",
    "for i in dfModalUni.itertuples():\n",
    "    if i.who not in speakerList2:\n",
    "        missingSpeakers2.append(i.who)"
   ]
  },
  {
   "cell_type": "code",
   "execution_count": 9,
   "id": "a135d370",
   "metadata": {},
   "outputs": [],
   "source": [
    "missingSpeakers2 = list(set(missingSpeakers2))"
   ]
  },
  {
   "cell_type": "code",
   "execution_count": 11,
   "id": "768a7445",
   "metadata": {},
   "outputs": [
    {
     "data": {
      "text/plain": [
       "[]"
      ]
     },
     "execution_count": 11,
     "metadata": {},
     "output_type": "execute_result"
    }
   ],
   "source": [
    "missingSpeakers2"
   ]
  },
  {
   "cell_type": "code",
   "execution_count": 79,
   "id": "5f1ebae4",
   "metadata": {},
   "outputs": [],
   "source": [
    "S0045 = [\"S0045\", 1, 228, 0, 0, \"M\", \"19-29\", \"5_postgrad\", \"E\", \"British\", \"UK\", \"UK\", \"uk\", \"england\", \"north\", \"fls\", \"English\", \"no\"]\n",
    "S0053 = [\"S0053\", 1, 117, 0, 0, \"F\", \"19-29\", \"4_graduate\", \"E\", \"British\", \"UK\", \"UK\", \"uk\", \"england\", \"north\", \"fls\", \"English\", \"no\"]\n",
    "S0087 = [\"S0087\", 1, 1393, 31, 0.02, \"M\", \"40-49\", \"5_postgrad\", \"B\", \"other\", \"UK\", \"UK\", \"uk\", \"england\", \"north\", \"fls\", \"English\", \"yes\"]\n",
    "S0148 = [\"S0148\", 1, 1334, 26, 0.02, \"F\", \"19-29\", \"3_sixthform\", \"B\", \"British\", \"UK\", \"UK\", \"uk\", \"england\", \"south\", \"fls\", \"English\", \"yes\"]\n",
    "S0692 = [\"S0692\", 1, 1105, 18, 0.02, \"M\", \"19-29\", \"3_sixthform\", \"D\", \"British\", \"UK\", \"UK\", \"uk\", \"england\", \"north\", \"no_fls\", \"English\", \"no\"]"
   ]
  },
  {
   "cell_type": "code",
   "execution_count": 71,
   "id": "83665920",
   "metadata": {},
   "outputs": [],
   "source": [
    "dfSpeakerData.loc[len(dfSpeakerData)] = S0045"
   ]
  },
  {
   "cell_type": "code",
   "execution_count": 80,
   "id": "d37b0b76",
   "metadata": {},
   "outputs": [],
   "source": [
    "dfSpeakerData.loc[len(dfSpeakerData)] = S0053\n",
    "dfSpeakerData.loc[len(dfSpeakerData)] = S0087\n",
    "dfSpeakerData.loc[len(dfSpeakerData)] = S0148\n",
    "dfSpeakerData.loc[len(dfSpeakerData)] = S0692"
   ]
  },
  {
   "cell_type": "code",
   "execution_count": 82,
   "id": "35b8b1b3",
   "metadata": {},
   "outputs": [],
   "source": [
    "dfSpeakerData.to_csv(\"speaker_data_all_speakers.csv\", index=False)"
   ]
  },
  {
   "cell_type": "code",
   "execution_count": 12,
   "id": "b974722f",
   "metadata": {},
   "outputs": [],
   "source": [
    "dfUniWithSpData = dfUni.merge(dfSpeakerData, on=\"who\", how=\"left\")\n",
    "dfBigramWithSpData = dfBigram.merge(dfSpeakerData, on=\"who\", how=\"left\")\n",
    "dfTrigramWithSpData = dfTrigram.merge(dfSpeakerData, on=\"who\", how=\"left\")\n",
    "dfModalUniWithSpData = dfModalUni.merge(dfSpeakerData, on=\"who\", how=\"left\")\n",
    "dfModalBi1RWithSpData = dfModalBi1R.merge(dfSpeakerData, on=\"who\", how=\"left\")\n",
    "dfModalBi1LWithSpData = dfModalBi1L.merge(dfSpeakerData, on=\"who\", how=\"left\")\n",
    "dfModalTrigramWithSpData = dfModalTri.merge(dfSpeakerData, on=\"who\", how=\"left\")"
   ]
  },
  {
   "cell_type": "code",
   "execution_count": 13,
   "id": "bbe6b573",
   "metadata": {},
   "outputs": [],
   "source": [
    "dfModalTrigramWithSpData = dfModalTrigramWithSpData.loc[dfModalTrigramWithSpData.token == \"'ll have to \"]"
   ]
  },
  {
   "cell_type": "code",
   "execution_count": 14,
   "id": "da08fd79",
   "metadata": {},
   "outputs": [],
   "source": [
    "dfModalUniWithSpData = dfModalUniWithSpData.loc[(dfModalUniWithSpData.lemma == \"can\") | (dfModalUniWithSpData.lemma == \"might\")]"
   ]
  },
  {
   "cell_type": "code",
   "execution_count": 15,
   "id": "c21d2c0a",
   "metadata": {},
   "outputs": [],
   "source": [
    "dfUniWithSpData.to_csv(\"comparisonUnigramsFinal.csv\", index=False)\n",
    "dfBigramWithSpData.to_csv(\"comparisonBigramsFinal.csv\", index=False)\n",
    "dfTrigramWithSpData.to_csv(\"comparisonTrigramFinal.csv\", index=False)\n",
    "dfModalUniWithSpData.to_csv(\"modalUnigramsFinal.csv\", index=False)\n",
    "dfModalBi1RWithSpData.to_csv(\"modalBigrams1RFinal.csv\", index=False)\n",
    "dfModalBi1LWithSpData.to_csv(\"modalBigrams1LFinal.csv\", index=False)\n",
    "dfModalTrigramWithSpData.to_csv(\"modalTrigramFinal.csv\", index=False)\n"
   ]
  },
  {
   "cell_type": "code",
   "execution_count": null,
   "id": "ba9d20f4",
   "metadata": {},
   "outputs": [],
   "source": []
  }
 ],
 "metadata": {
  "kernelspec": {
   "display_name": "Python 3",
   "language": "python",
   "name": "python3"
  },
  "language_info": {
   "codemirror_mode": {
    "name": "ipython",
    "version": 3
   },
   "file_extension": ".py",
   "mimetype": "text/x-python",
   "name": "python",
   "nbconvert_exporter": "python",
   "pygments_lexer": "ipython3",
   "version": "3.8.8"
  }
 },
 "nbformat": 4,
 "nbformat_minor": 5
}
